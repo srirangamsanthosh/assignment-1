{
 "cells": [
  {
   "cell_type": "code",
   "execution_count": 78,
   "metadata": {},
   "outputs": [
    {
     "name": "stdout",
     "output_type": "stream",
     "text": [
      "Fibonacci sequence:\n",
      "0\n",
      "1\n",
      "1\n",
      "2\n",
      "3\n",
      "5\n",
      "8\n",
      "13\n",
      "21\n",
      "34\n"
     ]
    }
   ],
   "source": [
    "#Write a Python program to get the Fibonacci series between 0 to 50\n",
    "\n",
    "\n",
    "n = 50\n",
    "n1, n2 = 0, 1\n",
    "count = 0\n",
    "\n",
    "print(\"Fibonacci sequence:\")\n",
    "while n1 < n:\n",
    "       print(n1)\n",
    "       nth = n1 + n2\n",
    "       n1 = n2\n",
    "       n2 = nth\n",
    "       count += 1"
   ]
  },
  {
   "cell_type": "code",
   "execution_count": 74,
   "metadata": {},
   "outputs": [
    {
     "name": "stdout",
     "output_type": "stream",
     "text": [
      "please enter a name  edyoda\n",
      "adoyde\n"
     ]
    }
   ],
   "source": [
    "# Write a Python program that accepts a word from the user and reverse it. \n",
    "\n",
    "\n",
    "a=input(\"please enter a name  \")\n",
    "\n",
    "print(a[::-1])"
   ]
  },
  {
   "cell_type": "code",
   "execution_count": 75,
   "metadata": {},
   "outputs": [
    {
     "name": "stdout",
     "output_type": "stream",
     "text": [
      "number of even numbers: 4\n",
      "number of odd numbers: 5\n"
     ]
    }
   ],
   "source": [
    "# Write a Python program to count the number of even and odd numbers from a series of numbers.\n",
    "\n",
    "\n",
    "numbers=(1,2,3,4,5,6,7,8,9)\n",
    "c=0\n",
    "b=0\n",
    "for i in numbers:\n",
    "    \n",
    "    if i%2==0:\n",
    "        c+=1\n",
    "    else:\n",
    "        b+=1\n",
    "    \n",
    "\n",
    "        \n",
    "print(\"number of even numbers:\",c)\n",
    "print(\"number of odd numbers:\",b)"
   ]
  }
 ],
 "metadata": {
  "kernelspec": {
   "display_name": "Python 3",
   "language": "python",
   "name": "python3"
  },
  "language_info": {
   "codemirror_mode": {
    "name": "ipython",
    "version": 3
   },
   "file_extension": ".py",
   "mimetype": "text/x-python",
   "name": "python",
   "nbconvert_exporter": "python",
   "pygments_lexer": "ipython3",
   "version": "3.8.5"
  }
 },
 "nbformat": 4,
 "nbformat_minor": 4
}
